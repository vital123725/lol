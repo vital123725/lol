{
  "nbformat": 4,
  "nbformat_minor": 0,
  "metadata": {
    "colab": {
      "provenance": []
    },
    "kernelspec": {
      "name": "python3",
      "display_name": "Python 3"
    },
    "language_info": {
      "name": "python"
    }
  },
  "cells": [
    {
      "cell_type": "code",
      "execution_count": null,
      "metadata": {
        "colab": {
          "base_uri": "https://localhost:8080/",
          "height": 39
        },
        "id": "tHs5rzCI0Xfy",
        "outputId": "57c39c05-8d11-4e86-dc0c-516cbf2752a3"
      },
      "outputs": [
        {
          "output_type": "display_data",
          "data": {
            "text/plain": [
              "<IPython.core.display.HTML object>"
            ],
            "text/html": [
              "<marquee style='width: 30%; color: yellow;'><b>Welcome to WUNU</b></marquee>\n"
            ]
          },
          "metadata": {}
        }
      ],
      "source": [
        "%%html\n",
        "<marquee style='width: 30%; color: yellow;'><b>Welcome to WUNU</b></marquee>"
      ]
    },
    {
      "cell_type": "code",
      "source": [
        "import numpy as np\n",
        "from matplotlib import pyplot as plt\n",
        "\n",
        "ys1 = 200 + np.random.randn(100)\n",
        "ys2 = 190 + np.random.randn(100)\n",
        "x = [x for x in range(len(ys1))]\n",
        "\n",
        "plt.plot(x, ys1, '-', label='Line 1')\n",
        "plt.plot(x, ys2, '-', label='Line 2')\n",
        "\n",
        "plt.fill_between(x, ys1, 205, where=(ys1 > 205), facecolor='g', alpha=0.6, label='Fill for Line 1')\n",
        "plt.fill_between(x, ys2, 195, where=(ys2 > 195), facecolor='b', alpha=0.6, label='Fill for Line 2')\n",
        "\n",
        "plt.title(\"Modified Fills and Alpha Example\")\n",
        "plt.legend()\n",
        "\n",
        "plt.show()\n"
      ],
      "metadata": {
        "id": "LPiHW4bh0-b3"
      },
      "execution_count": null,
      "outputs": []
    },
    {
      "cell_type": "code",
      "source": [
        "def calculator():\n",
        "    print(\"Простий калькулятор\")\n",
        "    print(\"Доступні операції:\")\n",
        "    print(\"1. Додавання\")\n",
        "    print(\"2. Віднімання\")\n",
        "    print(\"3. Множення\")\n",
        "    print(\"4. Ділення\")\n",
        "\n",
        "    num1 = float(input(\"Введіть перше число: \"))\n",
        "    operation = input(\"Введіть номер операції: \")\n",
        "    num2 = float(input(\"Введіть друге число: \"))\n",
        "\n",
        "    if operation == '1':\n",
        "        result = num1 + num2\n",
        "        print(f\"{num1} + {num2} = {result}\")\n",
        "    elif operation == '2':\n",
        "        result = num1 - num2\n",
        "        print(f\"{num1} - {num2} = {result}\")\n",
        "    elif operation == '3':\n",
        "        result = num1 * num2\n",
        "        print(f\"{num1} * {num2} = {result}\")\n",
        "    elif operation == '4':\n",
        "        if num2 != 0:\n",
        "            result = num1 / num2\n",
        "            print(f\"{num1} / {num2} = {result}\")\n",
        "        else:\n",
        "            print(\"Ділення на нуль неможливе.\")\n",
        "    else:\n",
        "        print(\"Неправильний номер операції.\")\n",
        "\n",
        "calculator()\n"
      ],
      "metadata": {
        "id": "BRFdroPd1njr"
      },
      "execution_count": null,
      "outputs": []
    },
    {
      "cell_type": "code",
      "source": [
        "!mkdir -p /content/new_folder\n",
        "!ls /content\n",
        "!rm -rf /content/unnecessary_folder"
      ],
      "metadata": {
        "colab": {
          "base_uri": "https://localhost:8080/"
        },
        "id": "m5IqkpXG49pX",
        "outputId": "bee97121-c25d-4d26-ca92-22ef488196ca"
      },
      "execution_count": null,
      "outputs": [
        {
          "output_type": "stream",
          "name": "stdout",
          "text": [
            "/bin/bash: line 1: mkdir -p /content/new_folder: No such file or directory\n",
            "/bin/bash: line 1: ls /content: No such file or directory\n",
            "/bin/bash: line 1: rm -rf /content/unnecessary_folder: No such file or directory\n"
          ]
        }
      ]
    },
    {
      "cell_type": "code",
      "source": [],
      "metadata": {
        "id": "fBGkR_qzGPBB"
      },
      "execution_count": null,
      "outputs": []
    }
  ]
}